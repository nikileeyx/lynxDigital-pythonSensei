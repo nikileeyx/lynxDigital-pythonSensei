{
  "nbformat": 4,
  "nbformat_minor": 0,
  "metadata": {
    "colab": {
      "name": "Random Name Generator (Student).ipynb",
      "provenance": []
    },
    "kernelspec": {
      "name": "python3",
      "display_name": "Python 3"
    },
    "language_info": {
      "name": "python"
    }
  },
  "cells": [
    {
      "cell_type": "markdown",
      "metadata": {
        "id": "ojQvvfgavqC3"
      },
      "source": [
        "# **1. Random Name Generator**\n",
        "\n",
        "Let's build a calculator with Python. "
      ]
    },
    {
      "cell_type": "markdown",
      "metadata": {
        "id": "jHMcTc3iz4Af"
      },
      "source": [
        "\n",
        "In this notebook, we will work with an application of data types to create a random name generator!\n",
        "\n",
        "1) Strings and Integers\n",
        "\n",
        "2) Arrays"
      ]
    },
    {
      "cell_type": "markdown",
      "metadata": {
        "id": "A6QnA1b5v_w5"
      },
      "source": [
        "First, let us create some arrays! \n",
        "\n",
        "Task 1: Create an array of 5 fruits\n",
        "\n",
        "---\n"
      ]
    },
    {
      "cell_type": "code",
      "metadata": {
        "id": "c2C3QZ3UvoRe"
      },
      "source": [
        "#Enter code here"
      ],
      "execution_count": null,
      "outputs": []
    },
    {
      "cell_type": "markdown",
      "metadata": {
        "id": "hmvuoQ26w8DB"
      },
      "source": [
        "# **2. Use of Functions for Operations**\n",
        "\n",
        "We can use Python functions to replace the need for "
      ]
    },
    {
      "cell_type": "markdown",
      "metadata": {
        "id": "Xpeg6r9ixGF7"
      },
      "source": [
        "Write a loop to print out all fruits in the array in order!\n"
      ]
    },
    {
      "cell_type": "code",
      "metadata": {
        "id": "98w7oNgLzqh9"
      },
      "source": [
        "#Enter code here"
      ],
      "execution_count": null,
      "outputs": []
    },
    {
      "cell_type": "markdown",
      "metadata": {
        "id": "0YPY6jekzNr0"
      },
      "source": [
        "Now try to print out the fruits in the opposite order!"
      ]
    },
    {
      "cell_type": "code",
      "metadata": {
        "id": "yl3iFmYszSLj"
      },
      "source": [
        "#Enter code here"
      ],
      "execution_count": null,
      "outputs": []
    },
    {
      "cell_type": "markdown",
      "metadata": {
        "id": "-VbXPGJsxYMB"
      },
      "source": [
        "# **3. Allowing User Input**\n",
        "\n",
        "Let us make the user interface of the array more friendly for the user. Instead entering code, we will allow the user to input another fruit to the list using the \"input()\" function!\n",
        "\n",
        "Here is an example of its use:\n",
        "\n",
        "```\n",
        "fruity = input(\"Enter a fruit: \")\n",
        "print(fruity)\n",
        "```\n",
        "\n",
        "Now you try!\n"
      ]
    },
    {
      "cell_type": "code",
      "metadata": {
        "id": "mBAWmcM9vp5p"
      },
      "source": [
        "#Enter code here"
      ],
      "execution_count": null,
      "outputs": []
    },
    {
      "cell_type": "markdown",
      "metadata": {
        "id": "jflz1M-1zgbd"
      },
      "source": [
        "# **4. Generating a random number**\n",
        "\n",
        "Now let's try to generate random numbers. This will be the foundation of the random name generator! \n"
      ]
    },
    {
      "cell_type": "markdown",
      "metadata": {
        "id": "b4K1J-tf0XWW"
      },
      "source": [
        "We will need to add a library called \"random\" here. Now try to print a random number! \n",
        "\n",
        "Documentation: https://docs.python.org/3/library/random."
      ]
    },
    {
      "cell_type": "code",
      "metadata": {
        "id": "IrSECCB30WwM"
      },
      "source": [
        "#Enter code here"
      ],
      "execution_count": null,
      "outputs": []
    },
    {
      "cell_type": "markdown",
      "metadata": {
        "id": "4mCNk_X80l1r"
      },
      "source": [
        "We will need to add a library called \"random\" here. Now try to print a random INTEGER, from 0 to 10! (Note: Remember that indexing in Python starts with 0)\n"
      ]
    },
    {
      "cell_type": "code",
      "metadata": {
        "id": "a6HYGi4i0kEq"
      },
      "source": [
        "#Enter code here"
      ],
      "execution_count": null,
      "outputs": []
    },
    {
      "cell_type": "markdown",
      "metadata": {
        "id": "vu7ZIUoVx_Im"
      },
      "source": [
        "# **5. Let us create a Random Name Generator!**\n",
        "\n",
        "Moving away from fruits, let's create a random name generator! Here are a list of features that the name generator should be able to perform.\n",
        "\n",
        "1) Print out a random name\n",
        "\n",
        "2) [Bonus!] Allow the user to add an additional name to the array"
      ]
    },
    {
      "cell_type": "code",
      "metadata": {
        "colab": {
          "base_uri": "https://localhost:8080/",
          "height": 232
        },
        "id": "jvhqQs9Vx-Ag",
        "outputId": "1319d388-fcaa-4c89-df98-a179b77a5f4d"
      },
      "source": [
        "import random\n",
        "\n",
        "# Step 1 : Populate the namelist here!\n",
        "namelist = ['Name1', 'Name2', ...] #complete this\n",
        "\n",
        "\n",
        "# Step 2 : Pick a random choice from a list of strings.\n",
        "\n",
        "\n",
        "\n",
        "# Step 3 : Output a random name\n",
        "\n",
        "\n",
        "for i in range():\n"
      ],
      "execution_count": null,
      "outputs": [
        {
          "output_type": "error",
          "ename": "TypeError",
          "evalue": "ignored",
          "traceback": [
            "\u001b[0;31m---------------------------------------------------------------------------\u001b[0m",
            "\u001b[0;31mTypeError\u001b[0m                                 Traceback (most recent call last)",
            "\u001b[0;32m<ipython-input-4-6ffba71da1dc>\u001b[0m in \u001b[0;36m<module>\u001b[0;34m()\u001b[0m\n\u001b[1;32m      8\u001b[0m \u001b[0mfireOne\u001b[0m \u001b[0;34m=\u001b[0m \u001b[0;36m0\u001b[0m\u001b[0;34m\u001b[0m\u001b[0;34m\u001b[0m\u001b[0m\n\u001b[1;32m      9\u001b[0m \u001b[0;34m\u001b[0m\u001b[0m\n\u001b[0;32m---> 10\u001b[0;31m \u001b[0mfireOne\u001b[0m \u001b[0;34m=\u001b[0m \u001b[0minput\u001b[0m\u001b[0;34m(\u001b[0m\u001b[0;34m\"Give the first location of an object: \"\u001b[0m\u001b[0;34m)\u001b[0m\u001b[0;34m\u001b[0m\u001b[0;34m\u001b[0m\u001b[0m\n\u001b[0m\u001b[1;32m     11\u001b[0m \u001b[0mfireTwo\u001b[0m \u001b[0;34m=\u001b[0m \u001b[0minput\u001b[0m\u001b[0;34m(\u001b[0m\u001b[0;34m\"Give the second location of an object: \"\u001b[0m\u001b[0;34m)\u001b[0m\u001b[0;34m\u001b[0m\u001b[0;34m\u001b[0m\u001b[0m\n\u001b[1;32m     12\u001b[0m \u001b[0mfireThree\u001b[0m \u001b[0;34m=\u001b[0m \u001b[0minput\u001b[0m\u001b[0;34m(\u001b[0m\u001b[0;34m\"Give the third location of an object: \"\u001b[0m\u001b[0;34m)\u001b[0m\u001b[0;34m\u001b[0m\u001b[0;34m\u001b[0m\u001b[0m\n",
            "\u001b[0;31mTypeError\u001b[0m: 'list' object is not callable"
          ]
        }
      ]
    }
  ]
}