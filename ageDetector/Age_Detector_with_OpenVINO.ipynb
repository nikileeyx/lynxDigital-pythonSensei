{
  "nbformat": 4,
  "nbformat_minor": 0,
  "metadata": {
    "colab": {
      "name": "Age Detector with OpenVINO.ipynb",
      "provenance": []
    },
    "kernelspec": {
      "name": "python3",
      "display_name": "Python 3"
    },
    "language_info": {
      "name": "python"
    }
  },
  "cells": [
    {
      "cell_type": "markdown",
      "source": [
        "#Age Detection \n",
        "The face age estimation algorithm mainly uses mean absolute error (MAE) and cumulative score (CS) as the standard to measure the accuracy of age estimation.\n",
        "\n",
        "Age detection works on the same basis as any other computer vision task. Large amounts of training data (pictures) for different ages are trained into the system to build a model. As time goes on the new incoming images are compared against the model to get a prediction of age.\n",
        "https://www.facelytics.io/"
      ],
      "metadata": {
        "id": "fxQ-ja8dupuR"
      }
    },
    {
      "cell_type": "code",
      "execution_count": 1,
      "metadata": {
        "colab": {
          "base_uri": "https://localhost:8080/"
        },
        "id": "Fyqrn-A0qvr4",
        "outputId": "d233a251-5d35-4792-cce7-e5dc4902e63c"
      },
      "outputs": [
        {
          "output_type": "stream",
          "name": "stdout",
          "text": [
            "Collecting openvino\n",
            "  Downloading openvino-2021.4.2-3976-cp37-cp37m-manylinux2014_x86_64.whl (28.9 MB)\n",
            "\u001b[K     |████████████████████████████████| 28.9 MB 1.4 MB/s \n",
            "\u001b[?25hRequirement already satisfied: numpy<1.20,>=1.16.6 in /usr/local/lib/python3.7/dist-packages (from openvino) (1.19.5)\n",
            "Installing collected packages: openvino\n",
            "Successfully installed openvino-2021.4.2\n"
          ]
        }
      ],
      "source": [
        "!pip install openvino"
      ]
    },
    {
      "cell_type": "code",
      "source": [
        "from openvino.inference_engine import IENetwork \n",
        "from openvino.inference_engine import IECore\n",
        "import warnings\n",
        "from google.colab.patches import cv2_imshow\n",
        "warnings.filterwarnings(\"ignore\", category=DeprecationWarning)"
      ],
      "metadata": {
        "id": "N4faly4wqwQm"
      },
      "execution_count": 2,
      "outputs": []
    },
    {
      "cell_type": "code",
      "source": [
        "def load_IR_to_IE(model_xml):\n",
        "    ### Load the Inference Engine API\n",
        "    plugin = IECore()\n",
        "    ### Loading the IR files to IENetwork class\n",
        "    model_bin = model_xml[:-3]+\"bin\" \n",
        "    network = IENetwork(model=model_xml, weights=model_bin)\n",
        "    ### Loading the network\n",
        "    executable_net = plugin.load_network(network,\"CPU\")\n",
        "    print(\"Network succesfully loaded into the Inference Engine\")\n",
        "    return executable_net"
      ],
      "metadata": {
        "id": "Cm8TcKsJq16K"
      },
      "execution_count": 3,
      "outputs": []
    },
    {
      "cell_type": "code",
      "source": [
        "def synchronous_inference(executable_net, image):\n",
        "    ### Get the input blob for the inference request\n",
        "    input_blob = next(iter(executable_net.inputs))\n",
        "    ### Perform Synchronous Inference\n",
        "    result = executable_net.infer(inputs = {input_blob: image})\n",
        "    return result"
      ],
      "metadata": {
        "id": "EjVS9m3Aq2gG"
      },
      "execution_count": 4,
      "outputs": []
    },
    {
      "cell_type": "code",
      "source": [
        "#age detection age-gender-recognition-retail-0013\n",
        "en = load_IR_to_IE('age.xml')\n",
        "import cv2\n",
        "\n",
        "imageName = \"ageFive.png\"\n",
        "image = cv2.imread(imageName)\n",
        "#face_img = cv2.dnn.blobFromImage(image, 1./127.5, (128, 128), (1, 1, 1), True)\n",
        "resized = cv2.resize(image, (62,62), interpolation = cv2.INTER_AREA)\n",
        "\n",
        "from torchvision import transforms\n",
        "tran = transforms.ToTensor()  # Convert the numpy array or PIL.Image read image to (C, H, W) Tensor format and /255 normalize to [0, 1.0]\n",
        "img_tensor = tran(resized)\n",
        "##\n",
        "img_tensor = img_tensor.unsqueeze_(0)\n",
        "##\n",
        "#print(img_tensor.size())  # (C,H, W), channel order (B, G, R)\n",
        "\n",
        "res = synchronous_inference(en, img_tensor)\n",
        "cv2_imshow(cv2.imread(imageName))\n",
        "print(\"The predicted age is: \"+str(round((86.5 - res['age_conv3'][0][0][0][0]*100/25 * 100) * 100)))"
      ],
      "metadata": {
        "colab": {
          "base_uri": "https://localhost:8080/",
          "height": 413
        },
        "id": "nobP93FWq4PJ",
        "outputId": "b70ba7e6-5e43-4d14-df24-3bfb66565e8c"
      },
      "execution_count": 5,
      "outputs": [
        {
          "output_type": "error",
          "ename": "Exception",
          "evalue": "ignored",
          "traceback": [
            "\u001b[0;31m---------------------------------------------------------------------------\u001b[0m",
            "\u001b[0;31mException\u001b[0m                                 Traceback (most recent call last)",
            "\u001b[0;32m<ipython-input-5-eab06b685d84>\u001b[0m in \u001b[0;36m<module>\u001b[0;34m()\u001b[0m\n\u001b[1;32m      1\u001b[0m \u001b[0;31m#age detection age-gender-recognition-retail-0013\u001b[0m\u001b[0;34m\u001b[0m\u001b[0;34m\u001b[0m\u001b[0;34m\u001b[0m\u001b[0m\n\u001b[0;32m----> 2\u001b[0;31m \u001b[0men\u001b[0m \u001b[0;34m=\u001b[0m \u001b[0mload_IR_to_IE\u001b[0m\u001b[0;34m(\u001b[0m\u001b[0;34m'age.xml'\u001b[0m\u001b[0;34m)\u001b[0m\u001b[0;34m\u001b[0m\u001b[0;34m\u001b[0m\u001b[0m\n\u001b[0m\u001b[1;32m      3\u001b[0m \u001b[0;32mimport\u001b[0m \u001b[0mcv2\u001b[0m\u001b[0;34m\u001b[0m\u001b[0;34m\u001b[0m\u001b[0m\n\u001b[1;32m      4\u001b[0m \u001b[0;34m\u001b[0m\u001b[0m\n\u001b[1;32m      5\u001b[0m \u001b[0mimageName\u001b[0m \u001b[0;34m=\u001b[0m \u001b[0;34m\"ageFive.png\"\u001b[0m\u001b[0;34m\u001b[0m\u001b[0;34m\u001b[0m\u001b[0m\n",
            "\u001b[0;32m<ipython-input-3-1d4e5da307b6>\u001b[0m in \u001b[0;36mload_IR_to_IE\u001b[0;34m(model_xml)\u001b[0m\n\u001b[1;32m      4\u001b[0m     \u001b[0;31m### Loading the IR files to IENetwork class\u001b[0m\u001b[0;34m\u001b[0m\u001b[0;34m\u001b[0m\u001b[0;34m\u001b[0m\u001b[0m\n\u001b[1;32m      5\u001b[0m     \u001b[0mmodel_bin\u001b[0m \u001b[0;34m=\u001b[0m \u001b[0mmodel_xml\u001b[0m\u001b[0;34m[\u001b[0m\u001b[0;34m:\u001b[0m\u001b[0;34m-\u001b[0m\u001b[0;36m3\u001b[0m\u001b[0;34m]\u001b[0m\u001b[0;34m+\u001b[0m\u001b[0;34m\"bin\"\u001b[0m\u001b[0;34m\u001b[0m\u001b[0;34m\u001b[0m\u001b[0m\n\u001b[0;32m----> 6\u001b[0;31m     \u001b[0mnetwork\u001b[0m \u001b[0;34m=\u001b[0m \u001b[0mIENetwork\u001b[0m\u001b[0;34m(\u001b[0m\u001b[0mmodel\u001b[0m\u001b[0;34m=\u001b[0m\u001b[0mmodel_xml\u001b[0m\u001b[0;34m,\u001b[0m \u001b[0mweights\u001b[0m\u001b[0;34m=\u001b[0m\u001b[0mmodel_bin\u001b[0m\u001b[0;34m)\u001b[0m\u001b[0;34m\u001b[0m\u001b[0;34m\u001b[0m\u001b[0m\n\u001b[0m\u001b[1;32m      7\u001b[0m     \u001b[0;31m### Loading the network\u001b[0m\u001b[0;34m\u001b[0m\u001b[0;34m\u001b[0m\u001b[0;34m\u001b[0m\u001b[0m\n\u001b[1;32m      8\u001b[0m     \u001b[0mexecutable_net\u001b[0m \u001b[0;34m=\u001b[0m \u001b[0mplugin\u001b[0m\u001b[0;34m.\u001b[0m\u001b[0mload_network\u001b[0m\u001b[0;34m(\u001b[0m\u001b[0mnetwork\u001b[0m\u001b[0;34m,\u001b[0m\u001b[0;34m\"CPU\"\u001b[0m\u001b[0;34m)\u001b[0m\u001b[0;34m\u001b[0m\u001b[0;34m\u001b[0m\u001b[0m\n",
            "\u001b[0;32mie_api.pyx\u001b[0m in \u001b[0;36mopenvino.inference_engine.ie_api.IENetwork.__cinit__\u001b[0;34m()\u001b[0m\n",
            "\u001b[0;31mException\u001b[0m: Path to the model age.xml doesn't exist or it's a directory"
          ]
        }
      ]
    },
    {
      "cell_type": "markdown",
      "source": [
        "Sources:\n",
        "\n",
        "https://towardsdatascience.com/age-detection-using-facial-images-traditional-machine-learning-vs-deep-learning-2437b2feeab2\n",
        "\n",
        "https://github.com/jojo96/intel-openvino-colab/tree/main/notebooks\n",
        "\n",
        "https://colab.research.google.com/drive/1YK7vAmOAznTPYy8G1I3NDof2x16ajY4M#scrollTo=Cl17ioro_6E6\n",
        "\n",
        "https://www.facelytics.io/\n",
        "\n",
        "https://github.com/alihussainia/openvino-colab\n",
        "\n",
        "Useful models: https://github.com/jojo96/intel-openvino-colab/tree/main/models\n"
      ],
      "metadata": {
        "id": "tpgYu6oaxapH"
      }
    }
  ]
}